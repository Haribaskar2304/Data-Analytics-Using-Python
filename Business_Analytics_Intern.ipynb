{
  "nbformat": 4,
  "nbformat_minor": 0,
  "metadata": {
    "colab": {
      "provenance": [],
      "authorship_tag": "ABX9TyOd49nzWJHaKif+1fzM5BIQ",
      "include_colab_link": true
    },
    "kernelspec": {
      "name": "python3",
      "display_name": "Python 3"
    },
    "language_info": {
      "name": "python"
    }
  },
  "cells": [
    {
      "cell_type": "markdown",
      "metadata": {
        "id": "view-in-github",
        "colab_type": "text"
      },
      "source": [
        "<a href=\"https://colab.research.google.com/github/Haribaskar2304/Data-Analytics-Using-Python/blob/main/Business_Analytics_Intern.ipynb\" target=\"_parent\"><img src=\"https://colab.research.google.com/assets/colab-badge.svg\" alt=\"Open In Colab\"/></a>"
      ]
    },
    {
      "cell_type": "markdown",
      "source": [
        "**Level 1**"
      ],
      "metadata": {
        "id": "-WuIwLxYRWFy"
      }
    },
    {
      "cell_type": "markdown",
      "source": [
        "Task 1: Data Overview"
      ],
      "metadata": {
        "id": "1nRP_ZzlL7co"
      }
    },
    {
      "cell_type": "code",
      "source": [
        "import pandas as pd\n",
        "\n",
        "file_path = '/Data_set 2 - Copy.csv'\n",
        "df = pd.read_csv(file_path)"
      ],
      "metadata": {
        "id": "lcL1aKn8MDqX"
      },
      "execution_count": null,
      "outputs": []
    },
    {
      "cell_type": "code",
      "source": [
        "df.duplicated().sum()"
      ],
      "metadata": {
        "colab": {
          "base_uri": "https://localhost:8080/"
        },
        "id": "bbic5dCyNzjP",
        "outputId": "8ee1cb67-2c95-4c0e-f3a3-61240bf9caf7"
      },
      "execution_count": null,
      "outputs": [
        {
          "output_type": "execute_result",
          "data": {
            "text/plain": [
              "0"
            ]
          },
          "metadata": {},
          "execution_count": 7
        }
      ]
    },
    {
      "cell_type": "code",
      "source": [
        "df.isnull().sum()"
      ],
      "metadata": {
        "colab": {
          "base_uri": "https://localhost:8080/",
          "height": 836
        },
        "id": "17D35pF4N2Qx",
        "outputId": "e1ddf6d3-a33d-49a6-dbd1-500aa09a9432"
      },
      "execution_count": null,
      "outputs": [
        {
          "output_type": "execute_result",
          "data": {
            "text/plain": [
              "gender                               0\n",
              "age                                  0\n",
              "Investment_Avenues                   0\n",
              "Mutual_Funds                         0\n",
              "Equity_Market                        0\n",
              "Debentures                           0\n",
              "Government_Bonds                     0\n",
              "Fixed_Deposits                       0\n",
              "PPF                                  0\n",
              "Gold                                 0\n",
              "Stock_Marktet                        0\n",
              "Factor                               0\n",
              "Objective                            0\n",
              "Purpose                              0\n",
              "Duration                             0\n",
              "Invest_Monitor                       0\n",
              "Expect                               0\n",
              "Avenue                               0\n",
              "What are your savings objectives?    0\n",
              "Reason_Equity                        0\n",
              "Reason_Mutual                        0\n",
              "Reason_Bonds                         0\n",
              "Reason_FD                            0\n",
              "Source                               0\n",
              "dtype: int64"
            ],
            "text/html": [
              "<div>\n",
              "<style scoped>\n",
              "    .dataframe tbody tr th:only-of-type {\n",
              "        vertical-align: middle;\n",
              "    }\n",
              "\n",
              "    .dataframe tbody tr th {\n",
              "        vertical-align: top;\n",
              "    }\n",
              "\n",
              "    .dataframe thead th {\n",
              "        text-align: right;\n",
              "    }\n",
              "</style>\n",
              "<table border=\"1\" class=\"dataframe\">\n",
              "  <thead>\n",
              "    <tr style=\"text-align: right;\">\n",
              "      <th></th>\n",
              "      <th>0</th>\n",
              "    </tr>\n",
              "  </thead>\n",
              "  <tbody>\n",
              "    <tr>\n",
              "      <th>gender</th>\n",
              "      <td>0</td>\n",
              "    </tr>\n",
              "    <tr>\n",
              "      <th>age</th>\n",
              "      <td>0</td>\n",
              "    </tr>\n",
              "    <tr>\n",
              "      <th>Investment_Avenues</th>\n",
              "      <td>0</td>\n",
              "    </tr>\n",
              "    <tr>\n",
              "      <th>Mutual_Funds</th>\n",
              "      <td>0</td>\n",
              "    </tr>\n",
              "    <tr>\n",
              "      <th>Equity_Market</th>\n",
              "      <td>0</td>\n",
              "    </tr>\n",
              "    <tr>\n",
              "      <th>Debentures</th>\n",
              "      <td>0</td>\n",
              "    </tr>\n",
              "    <tr>\n",
              "      <th>Government_Bonds</th>\n",
              "      <td>0</td>\n",
              "    </tr>\n",
              "    <tr>\n",
              "      <th>Fixed_Deposits</th>\n",
              "      <td>0</td>\n",
              "    </tr>\n",
              "    <tr>\n",
              "      <th>PPF</th>\n",
              "      <td>0</td>\n",
              "    </tr>\n",
              "    <tr>\n",
              "      <th>Gold</th>\n",
              "      <td>0</td>\n",
              "    </tr>\n",
              "    <tr>\n",
              "      <th>Stock_Marktet</th>\n",
              "      <td>0</td>\n",
              "    </tr>\n",
              "    <tr>\n",
              "      <th>Factor</th>\n",
              "      <td>0</td>\n",
              "    </tr>\n",
              "    <tr>\n",
              "      <th>Objective</th>\n",
              "      <td>0</td>\n",
              "    </tr>\n",
              "    <tr>\n",
              "      <th>Purpose</th>\n",
              "      <td>0</td>\n",
              "    </tr>\n",
              "    <tr>\n",
              "      <th>Duration</th>\n",
              "      <td>0</td>\n",
              "    </tr>\n",
              "    <tr>\n",
              "      <th>Invest_Monitor</th>\n",
              "      <td>0</td>\n",
              "    </tr>\n",
              "    <tr>\n",
              "      <th>Expect</th>\n",
              "      <td>0</td>\n",
              "    </tr>\n",
              "    <tr>\n",
              "      <th>Avenue</th>\n",
              "      <td>0</td>\n",
              "    </tr>\n",
              "    <tr>\n",
              "      <th>What are your savings objectives?</th>\n",
              "      <td>0</td>\n",
              "    </tr>\n",
              "    <tr>\n",
              "      <th>Reason_Equity</th>\n",
              "      <td>0</td>\n",
              "    </tr>\n",
              "    <tr>\n",
              "      <th>Reason_Mutual</th>\n",
              "      <td>0</td>\n",
              "    </tr>\n",
              "    <tr>\n",
              "      <th>Reason_Bonds</th>\n",
              "      <td>0</td>\n",
              "    </tr>\n",
              "    <tr>\n",
              "      <th>Reason_FD</th>\n",
              "      <td>0</td>\n",
              "    </tr>\n",
              "    <tr>\n",
              "      <th>Source</th>\n",
              "      <td>0</td>\n",
              "    </tr>\n",
              "  </tbody>\n",
              "</table>\n",
              "</div><br><label><b>dtype:</b> int64</label>"
            ]
          },
          "metadata": {},
          "execution_count": 10
        }
      ]
    },
    {
      "cell_type": "code",
      "source": [
        "df.info()"
      ],
      "metadata": {
        "colab": {
          "base_uri": "https://localhost:8080/"
        },
        "id": "Q__9rP4qOBuS",
        "outputId": "64e58098-3012-4a51-9741-ef9c8371b24b"
      },
      "execution_count": null,
      "outputs": [
        {
          "output_type": "stream",
          "name": "stdout",
          "text": [
            "<class 'pandas.core.frame.DataFrame'>\n",
            "RangeIndex: 40 entries, 0 to 39\n",
            "Data columns (total 24 columns):\n",
            " #   Column                             Non-Null Count  Dtype \n",
            "---  ------                             --------------  ----- \n",
            " 0   gender                             40 non-null     object\n",
            " 1   age                                40 non-null     int64 \n",
            " 2   Investment_Avenues                 40 non-null     object\n",
            " 3   Mutual_Funds                       40 non-null     int64 \n",
            " 4   Equity_Market                      40 non-null     int64 \n",
            " 5   Debentures                         40 non-null     int64 \n",
            " 6   Government_Bonds                   40 non-null     int64 \n",
            " 7   Fixed_Deposits                     40 non-null     int64 \n",
            " 8   PPF                                40 non-null     int64 \n",
            " 9   Gold                               40 non-null     int64 \n",
            " 10  Stock_Marktet                      40 non-null     object\n",
            " 11  Factor                             40 non-null     object\n",
            " 12  Objective                          40 non-null     object\n",
            " 13  Purpose                            40 non-null     object\n",
            " 14  Duration                           40 non-null     object\n",
            " 15  Invest_Monitor                     40 non-null     object\n",
            " 16  Expect                             40 non-null     object\n",
            " 17  Avenue                             40 non-null     object\n",
            " 18  What are your savings objectives?  40 non-null     object\n",
            " 19  Reason_Equity                      40 non-null     object\n",
            " 20  Reason_Mutual                      40 non-null     object\n",
            " 21  Reason_Bonds                       40 non-null     object\n",
            " 22  Reason_FD                          40 non-null     object\n",
            " 23  Source                             40 non-null     object\n",
            "dtypes: int64(8), object(16)\n",
            "memory usage: 7.6+ KB\n"
          ]
        }
      ]
    },
    {
      "cell_type": "code",
      "source": [
        "df.describe()"
      ],
      "metadata": {
        "colab": {
          "base_uri": "https://localhost:8080/",
          "height": 300
        },
        "id": "2NHd2Y2LOODg",
        "outputId": "06e43805-7cb6-4e0c-abef-414802d7cc0f"
      },
      "execution_count": null,
      "outputs": [
        {
          "output_type": "execute_result",
          "data": {
            "text/plain": [
              "             age  Mutual_Funds  Equity_Market  Debentures  Government_Bonds  \\\n",
              "count  40.000000     40.000000      40.000000   40.000000         40.000000   \n",
              "mean   27.800000      2.550000       3.475000    5.750000          4.650000   \n",
              "std     3.560467      1.197219       1.131994    1.675617          1.369072   \n",
              "min    21.000000      1.000000       1.000000    1.000000          1.000000   \n",
              "25%    25.750000      2.000000       3.000000    5.000000          4.000000   \n",
              "50%    27.000000      2.000000       4.000000    6.500000          5.000000   \n",
              "75%    30.000000      3.000000       4.000000    7.000000          5.000000   \n",
              "max    35.000000      7.000000       6.000000    7.000000          7.000000   \n",
              "\n",
              "       Fixed_Deposits        PPF       Gold  \n",
              "count       40.000000  40.000000  40.000000  \n",
              "mean         3.575000   2.025000   5.975000  \n",
              "std          1.795828   1.609069   1.143263  \n",
              "min          1.000000   1.000000   2.000000  \n",
              "25%          2.750000   1.000000   6.000000  \n",
              "50%          3.500000   1.000000   6.000000  \n",
              "75%          5.000000   2.250000   7.000000  \n",
              "max          7.000000   6.000000   7.000000  "
            ],
            "text/html": [
              "\n",
              "  <div id=\"df-47db8d98-3c51-44cd-b841-5eef0a875f33\" class=\"colab-df-container\">\n",
              "    <div>\n",
              "<style scoped>\n",
              "    .dataframe tbody tr th:only-of-type {\n",
              "        vertical-align: middle;\n",
              "    }\n",
              "\n",
              "    .dataframe tbody tr th {\n",
              "        vertical-align: top;\n",
              "    }\n",
              "\n",
              "    .dataframe thead th {\n",
              "        text-align: right;\n",
              "    }\n",
              "</style>\n",
              "<table border=\"1\" class=\"dataframe\">\n",
              "  <thead>\n",
              "    <tr style=\"text-align: right;\">\n",
              "      <th></th>\n",
              "      <th>age</th>\n",
              "      <th>Mutual_Funds</th>\n",
              "      <th>Equity_Market</th>\n",
              "      <th>Debentures</th>\n",
              "      <th>Government_Bonds</th>\n",
              "      <th>Fixed_Deposits</th>\n",
              "      <th>PPF</th>\n",
              "      <th>Gold</th>\n",
              "    </tr>\n",
              "  </thead>\n",
              "  <tbody>\n",
              "    <tr>\n",
              "      <th>count</th>\n",
              "      <td>40.000000</td>\n",
              "      <td>40.000000</td>\n",
              "      <td>40.000000</td>\n",
              "      <td>40.000000</td>\n",
              "      <td>40.000000</td>\n",
              "      <td>40.000000</td>\n",
              "      <td>40.000000</td>\n",
              "      <td>40.000000</td>\n",
              "    </tr>\n",
              "    <tr>\n",
              "      <th>mean</th>\n",
              "      <td>27.800000</td>\n",
              "      <td>2.550000</td>\n",
              "      <td>3.475000</td>\n",
              "      <td>5.750000</td>\n",
              "      <td>4.650000</td>\n",
              "      <td>3.575000</td>\n",
              "      <td>2.025000</td>\n",
              "      <td>5.975000</td>\n",
              "    </tr>\n",
              "    <tr>\n",
              "      <th>std</th>\n",
              "      <td>3.560467</td>\n",
              "      <td>1.197219</td>\n",
              "      <td>1.131994</td>\n",
              "      <td>1.675617</td>\n",
              "      <td>1.369072</td>\n",
              "      <td>1.795828</td>\n",
              "      <td>1.609069</td>\n",
              "      <td>1.143263</td>\n",
              "    </tr>\n",
              "    <tr>\n",
              "      <th>min</th>\n",
              "      <td>21.000000</td>\n",
              "      <td>1.000000</td>\n",
              "      <td>1.000000</td>\n",
              "      <td>1.000000</td>\n",
              "      <td>1.000000</td>\n",
              "      <td>1.000000</td>\n",
              "      <td>1.000000</td>\n",
              "      <td>2.000000</td>\n",
              "    </tr>\n",
              "    <tr>\n",
              "      <th>25%</th>\n",
              "      <td>25.750000</td>\n",
              "      <td>2.000000</td>\n",
              "      <td>3.000000</td>\n",
              "      <td>5.000000</td>\n",
              "      <td>4.000000</td>\n",
              "      <td>2.750000</td>\n",
              "      <td>1.000000</td>\n",
              "      <td>6.000000</td>\n",
              "    </tr>\n",
              "    <tr>\n",
              "      <th>50%</th>\n",
              "      <td>27.000000</td>\n",
              "      <td>2.000000</td>\n",
              "      <td>4.000000</td>\n",
              "      <td>6.500000</td>\n",
              "      <td>5.000000</td>\n",
              "      <td>3.500000</td>\n",
              "      <td>1.000000</td>\n",
              "      <td>6.000000</td>\n",
              "    </tr>\n",
              "    <tr>\n",
              "      <th>75%</th>\n",
              "      <td>30.000000</td>\n",
              "      <td>3.000000</td>\n",
              "      <td>4.000000</td>\n",
              "      <td>7.000000</td>\n",
              "      <td>5.000000</td>\n",
              "      <td>5.000000</td>\n",
              "      <td>2.250000</td>\n",
              "      <td>7.000000</td>\n",
              "    </tr>\n",
              "    <tr>\n",
              "      <th>max</th>\n",
              "      <td>35.000000</td>\n",
              "      <td>7.000000</td>\n",
              "      <td>6.000000</td>\n",
              "      <td>7.000000</td>\n",
              "      <td>7.000000</td>\n",
              "      <td>7.000000</td>\n",
              "      <td>6.000000</td>\n",
              "      <td>7.000000</td>\n",
              "    </tr>\n",
              "  </tbody>\n",
              "</table>\n",
              "</div>\n",
              "    <div class=\"colab-df-buttons\">\n",
              "\n",
              "  <div class=\"colab-df-container\">\n",
              "    <button class=\"colab-df-convert\" onclick=\"convertToInteractive('df-47db8d98-3c51-44cd-b841-5eef0a875f33')\"\n",
              "            title=\"Convert this dataframe to an interactive table.\"\n",
              "            style=\"display:none;\">\n",
              "\n",
              "  <svg xmlns=\"http://www.w3.org/2000/svg\" height=\"24px\" viewBox=\"0 -960 960 960\">\n",
              "    <path d=\"M120-120v-720h720v720H120Zm60-500h600v-160H180v160Zm220 220h160v-160H400v160Zm0 220h160v-160H400v160ZM180-400h160v-160H180v160Zm440 0h160v-160H620v160ZM180-180h160v-160H180v160Zm440 0h160v-160H620v160Z\"/>\n",
              "  </svg>\n",
              "    </button>\n",
              "\n",
              "  <style>\n",
              "    .colab-df-container {\n",
              "      display:flex;\n",
              "      gap: 12px;\n",
              "    }\n",
              "\n",
              "    .colab-df-convert {\n",
              "      background-color: #E8F0FE;\n",
              "      border: none;\n",
              "      border-radius: 50%;\n",
              "      cursor: pointer;\n",
              "      display: none;\n",
              "      fill: #1967D2;\n",
              "      height: 32px;\n",
              "      padding: 0 0 0 0;\n",
              "      width: 32px;\n",
              "    }\n",
              "\n",
              "    .colab-df-convert:hover {\n",
              "      background-color: #E2EBFA;\n",
              "      box-shadow: 0px 1px 2px rgba(60, 64, 67, 0.3), 0px 1px 3px 1px rgba(60, 64, 67, 0.15);\n",
              "      fill: #174EA6;\n",
              "    }\n",
              "\n",
              "    .colab-df-buttons div {\n",
              "      margin-bottom: 4px;\n",
              "    }\n",
              "\n",
              "    [theme=dark] .colab-df-convert {\n",
              "      background-color: #3B4455;\n",
              "      fill: #D2E3FC;\n",
              "    }\n",
              "\n",
              "    [theme=dark] .colab-df-convert:hover {\n",
              "      background-color: #434B5C;\n",
              "      box-shadow: 0px 1px 3px 1px rgba(0, 0, 0, 0.15);\n",
              "      filter: drop-shadow(0px 1px 2px rgba(0, 0, 0, 0.3));\n",
              "      fill: #FFFFFF;\n",
              "    }\n",
              "  </style>\n",
              "\n",
              "    <script>\n",
              "      const buttonEl =\n",
              "        document.querySelector('#df-47db8d98-3c51-44cd-b841-5eef0a875f33 button.colab-df-convert');\n",
              "      buttonEl.style.display =\n",
              "        google.colab.kernel.accessAllowed ? 'block' : 'none';\n",
              "\n",
              "      async function convertToInteractive(key) {\n",
              "        const element = document.querySelector('#df-47db8d98-3c51-44cd-b841-5eef0a875f33');\n",
              "        const dataTable =\n",
              "          await google.colab.kernel.invokeFunction('convertToInteractive',\n",
              "                                                    [key], {});\n",
              "        if (!dataTable) return;\n",
              "\n",
              "        const docLinkHtml = 'Like what you see? Visit the ' +\n",
              "          '<a target=\"_blank\" href=https://colab.research.google.com/notebooks/data_table.ipynb>data table notebook</a>'\n",
              "          + ' to learn more about interactive tables.';\n",
              "        element.innerHTML = '';\n",
              "        dataTable['output_type'] = 'display_data';\n",
              "        await google.colab.output.renderOutput(dataTable, element);\n",
              "        const docLink = document.createElement('div');\n",
              "        docLink.innerHTML = docLinkHtml;\n",
              "        element.appendChild(docLink);\n",
              "      }\n",
              "    </script>\n",
              "  </div>\n",
              "\n",
              "\n",
              "<div id=\"df-5c8d387b-1916-44a8-ad57-b0af0f0bd13f\">\n",
              "  <button class=\"colab-df-quickchart\" onclick=\"quickchart('df-5c8d387b-1916-44a8-ad57-b0af0f0bd13f')\"\n",
              "            title=\"Suggest charts\"\n",
              "            style=\"display:none;\">\n",
              "\n",
              "<svg xmlns=\"http://www.w3.org/2000/svg\" height=\"24px\"viewBox=\"0 0 24 24\"\n",
              "     width=\"24px\">\n",
              "    <g>\n",
              "        <path d=\"M19 3H5c-1.1 0-2 .9-2 2v14c0 1.1.9 2 2 2h14c1.1 0 2-.9 2-2V5c0-1.1-.9-2-2-2zM9 17H7v-7h2v7zm4 0h-2V7h2v10zm4 0h-2v-4h2v4z\"/>\n",
              "    </g>\n",
              "</svg>\n",
              "  </button>\n",
              "\n",
              "<style>\n",
              "  .colab-df-quickchart {\n",
              "      --bg-color: #E8F0FE;\n",
              "      --fill-color: #1967D2;\n",
              "      --hover-bg-color: #E2EBFA;\n",
              "      --hover-fill-color: #174EA6;\n",
              "      --disabled-fill-color: #AAA;\n",
              "      --disabled-bg-color: #DDD;\n",
              "  }\n",
              "\n",
              "  [theme=dark] .colab-df-quickchart {\n",
              "      --bg-color: #3B4455;\n",
              "      --fill-color: #D2E3FC;\n",
              "      --hover-bg-color: #434B5C;\n",
              "      --hover-fill-color: #FFFFFF;\n",
              "      --disabled-bg-color: #3B4455;\n",
              "      --disabled-fill-color: #666;\n",
              "  }\n",
              "\n",
              "  .colab-df-quickchart {\n",
              "    background-color: var(--bg-color);\n",
              "    border: none;\n",
              "    border-radius: 50%;\n",
              "    cursor: pointer;\n",
              "    display: none;\n",
              "    fill: var(--fill-color);\n",
              "    height: 32px;\n",
              "    padding: 0;\n",
              "    width: 32px;\n",
              "  }\n",
              "\n",
              "  .colab-df-quickchart:hover {\n",
              "    background-color: var(--hover-bg-color);\n",
              "    box-shadow: 0 1px 2px rgba(60, 64, 67, 0.3), 0 1px 3px 1px rgba(60, 64, 67, 0.15);\n",
              "    fill: var(--button-hover-fill-color);\n",
              "  }\n",
              "\n",
              "  .colab-df-quickchart-complete:disabled,\n",
              "  .colab-df-quickchart-complete:disabled:hover {\n",
              "    background-color: var(--disabled-bg-color);\n",
              "    fill: var(--disabled-fill-color);\n",
              "    box-shadow: none;\n",
              "  }\n",
              "\n",
              "  .colab-df-spinner {\n",
              "    border: 2px solid var(--fill-color);\n",
              "    border-color: transparent;\n",
              "    border-bottom-color: var(--fill-color);\n",
              "    animation:\n",
              "      spin 1s steps(1) infinite;\n",
              "  }\n",
              "\n",
              "  @keyframes spin {\n",
              "    0% {\n",
              "      border-color: transparent;\n",
              "      border-bottom-color: var(--fill-color);\n",
              "      border-left-color: var(--fill-color);\n",
              "    }\n",
              "    20% {\n",
              "      border-color: transparent;\n",
              "      border-left-color: var(--fill-color);\n",
              "      border-top-color: var(--fill-color);\n",
              "    }\n",
              "    30% {\n",
              "      border-color: transparent;\n",
              "      border-left-color: var(--fill-color);\n",
              "      border-top-color: var(--fill-color);\n",
              "      border-right-color: var(--fill-color);\n",
              "    }\n",
              "    40% {\n",
              "      border-color: transparent;\n",
              "      border-right-color: var(--fill-color);\n",
              "      border-top-color: var(--fill-color);\n",
              "    }\n",
              "    60% {\n",
              "      border-color: transparent;\n",
              "      border-right-color: var(--fill-color);\n",
              "    }\n",
              "    80% {\n",
              "      border-color: transparent;\n",
              "      border-right-color: var(--fill-color);\n",
              "      border-bottom-color: var(--fill-color);\n",
              "    }\n",
              "    90% {\n",
              "      border-color: transparent;\n",
              "      border-bottom-color: var(--fill-color);\n",
              "    }\n",
              "  }\n",
              "</style>\n",
              "\n",
              "  <script>\n",
              "    async function quickchart(key) {\n",
              "      const quickchartButtonEl =\n",
              "        document.querySelector('#' + key + ' button');\n",
              "      quickchartButtonEl.disabled = true;  // To prevent multiple clicks.\n",
              "      quickchartButtonEl.classList.add('colab-df-spinner');\n",
              "      try {\n",
              "        const charts = await google.colab.kernel.invokeFunction(\n",
              "            'suggestCharts', [key], {});\n",
              "      } catch (error) {\n",
              "        console.error('Error during call to suggestCharts:', error);\n",
              "      }\n",
              "      quickchartButtonEl.classList.remove('colab-df-spinner');\n",
              "      quickchartButtonEl.classList.add('colab-df-quickchart-complete');\n",
              "    }\n",
              "    (() => {\n",
              "      let quickchartButtonEl =\n",
              "        document.querySelector('#df-5c8d387b-1916-44a8-ad57-b0af0f0bd13f button');\n",
              "      quickchartButtonEl.style.display =\n",
              "        google.colab.kernel.accessAllowed ? 'block' : 'none';\n",
              "    })();\n",
              "  </script>\n",
              "</div>\n",
              "\n",
              "    </div>\n",
              "  </div>\n"
            ],
            "application/vnd.google.colaboratory.intrinsic+json": {
              "type": "dataframe",
              "summary": "{\n  \"name\": \"df\",\n  \"rows\": 8,\n  \"fields\": [\n    {\n      \"column\": \"age\",\n      \"properties\": {\n        \"dtype\": \"number\",\n        \"std\": 10.858034525486168,\n        \"min\": 3.560466693696639,\n        \"max\": 40.0,\n        \"num_unique_values\": 8,\n        \"samples\": [\n          27.8,\n          27.0,\n          40.0\n        ],\n        \"semantic_type\": \"\",\n        \"description\": \"\"\n      }\n    },\n    {\n      \"column\": \"Mutual_Funds\",\n      \"properties\": {\n        \"dtype\": \"number\",\n        \"std\": 13.328440943057165,\n        \"min\": 1.0,\n        \"max\": 40.0,\n        \"num_unique_values\": 7,\n        \"samples\": [\n          40.0,\n          2.55,\n          3.0\n        ],\n        \"semantic_type\": \"\",\n        \"description\": \"\"\n      }\n    },\n    {\n      \"column\": \"Equity_Market\",\n      \"properties\": {\n        \"dtype\": \"number\",\n        \"std\": 13.100722848897934,\n        \"min\": 1.0,\n        \"max\": 40.0,\n        \"num_unique_values\": 7,\n        \"samples\": [\n          40.0,\n          3.475,\n          4.0\n        ],\n        \"semantic_type\": \"\",\n        \"description\": \"\"\n      }\n    },\n    {\n      \"column\": \"Debentures\",\n      \"properties\": {\n        \"dtype\": \"number\",\n        \"std\": 12.643437520427508,\n        \"min\": 1.0,\n        \"max\": 40.0,\n        \"num_unique_values\": 7,\n        \"samples\": [\n          40.0,\n          5.75,\n          6.5\n        ],\n        \"semantic_type\": \"\",\n        \"description\": \"\"\n      }\n    },\n    {\n      \"column\": \"Government_Bonds\",\n      \"properties\": {\n        \"dtype\": \"number\",\n        \"std\": 12.879510773386334,\n        \"min\": 1.0,\n        \"max\": 40.0,\n        \"num_unique_values\": 7,\n        \"samples\": [\n          40.0,\n          4.65,\n          5.0\n        ],\n        \"semantic_type\": \"\",\n        \"description\": \"\"\n      }\n    },\n    {\n      \"column\": \"Fixed_Deposits\",\n      \"properties\": {\n        \"dtype\": \"number\",\n        \"std\": 13.032030268880106,\n        \"min\": 1.0,\n        \"max\": 40.0,\n        \"num_unique_values\": 8,\n        \"samples\": [\n          3.575,\n          3.5,\n          40.0\n        ],\n        \"semantic_type\": \"\",\n        \"description\": \"\"\n      }\n    },\n    {\n      \"column\": \"PPF\",\n      \"properties\": {\n        \"dtype\": \"number\",\n        \"std\": 13.49190022025064,\n        \"min\": 1.0,\n        \"max\": 40.0,\n        \"num_unique_values\": 6,\n        \"samples\": [\n          40.0,\n          2.025,\n          6.0\n        ],\n        \"semantic_type\": \"\",\n        \"description\": \"\"\n      }\n    },\n    {\n      \"column\": \"Gold\",\n      \"properties\": {\n        \"dtype\": \"number\",\n        \"std\": 12.56789270092528,\n        \"min\": 1.1432634351063986,\n        \"max\": 40.0,\n        \"num_unique_values\": 6,\n        \"samples\": [\n          40.0,\n          5.975,\n          7.0\n        ],\n        \"semantic_type\": \"\",\n        \"description\": \"\"\n      }\n    }\n  ]\n}"
            }
          },
          "metadata": {},
          "execution_count": 13
        }
      ]
    },
    {
      "cell_type": "markdown",
      "source": [
        "Task 2: Gender Distribution"
      ],
      "metadata": {
        "id": "4r5CK5J_PIpY"
      }
    },
    {
      "cell_type": "code",
      "source": [
        "gender_data = data['gender']\n",
        "print(gender_data.value_counts())"
      ],
      "metadata": {
        "colab": {
          "base_uri": "https://localhost:8080/"
        },
        "id": "lML28dWvPNBZ",
        "outputId": "da41db3b-70c0-48bd-b892-5fda672fac8c"
      },
      "execution_count": null,
      "outputs": [
        {
          "output_type": "stream",
          "name": "stdout",
          "text": [
            "gender\n",
            "Male      25\n",
            "Female    15\n",
            "Name: count, dtype: int64\n"
          ]
        }
      ]
    },
    {
      "cell_type": "code",
      "source": [
        "import matplotlib.pyplot as plt\n",
        "import seaborn as sns\n",
        "\n",
        "gender_counts = gender_data.value_counts()\n",
        "\n",
        "plt.figure(figsize=(8, 6))\n",
        "gender_counts.plot.pie(autopct='%1.1f%%', colors=['grey', 'black'], startangle=140)\n",
        "plt.title('Gender Distribution', fontsize=16)\n",
        "plt.ylabel('')\n",
        "plt.show()\n",
        "\n",
        "\n"
      ],
      "metadata": {
        "colab": {
          "base_uri": "https://localhost:8080/",
          "height": 523
        },
        "id": "vy5lSSyWPphJ",
        "outputId": "f18052b7-1e37-41fc-8858-6fa9e3b721bc"
      },
      "execution_count": null,
      "outputs": [
        {
          "output_type": "display_data",
          "data": {
            "text/plain": [
              "<Figure size 800x600 with 1 Axes>"
            ],
            "image/png": "[encoded data removed]"
          },
          "metadata": {}
        }
      ]
    },
    {
      "cell_type": "markdown",
      "source": [
        "**Level 2**"
      ],
      "metadata": {
        "id": "OcrCZ_yERgrh"
      }
    },
    {
      "cell_type": "markdown",
      "source": [
        "Task 3: Descriptive Statistics"
      ],
      "metadata": {
        "id": "A_3XU7K9SMDZ"
      }
    },
    {
      "cell_type": "code",
      "source": [
        "df.dtypes"
      ],
      "metadata": {
        "id": "_yWoHu-fSTHZ",
        "colab": {
          "base_uri": "https://localhost:8080/",
          "height": 836
        },
        "outputId": "06475ae7-32c9-416d-c53f-b30002a72fec"
      },
      "execution_count": null,
      "outputs": [
        {
          "output_type": "execute_result",
          "data": {
            "text/plain": [
              "gender                               object\n",
              "age                                   int64\n",
              "Investment_Avenues                   object\n",
              "Mutual_Funds                          int64\n",
              "Equity_Market                         int64\n",
              "Debentures                            int64\n",
              "Government_Bonds                      int64\n",
              "Fixed_Deposits                        int64\n",
              "PPF                                   int64\n",
              "Gold                                  int64\n",
              "Stock_Marktet                        object\n",
              "Factor                               object\n",
              "Objective                            object\n",
              "Purpose                              object\n",
              "Duration                             object\n",
              "Invest_Monitor                       object\n",
              "Expect                               object\n",
              "Avenue                               object\n",
              "What are your savings objectives?    object\n",
              "Reason_Equity                        object\n",
              "Reason_Mutual                        object\n",
              "Reason_Bonds                         object\n",
              "Reason_FD                            object\n",
              "Source                               object\n",
              "dtype: object"
            ],
            "text/html": [
              "<div>\n",
              "<style scoped>\n",
              "    .dataframe tbody tr th:only-of-type {\n",
              "        vertical-align: middle;\n",
              "    }\n",
              "\n",
              "    .dataframe tbody tr th {\n",
              "        vertical-align: top;\n",
              "    }\n",
              "\n",
              "    .dataframe thead th {\n",
              "        text-align: right;\n",
              "    }\n",
              "</style>\n",
              "<table border=\"1\" class=\"dataframe\">\n",
              "  <thead>\n",
              "    <tr style=\"text-align: right;\">\n",
              "      <th></th>\n",
              "      <th>0</th>\n",
              "    </tr>\n",
              "  </thead>\n",
              "  <tbody>\n",
              "    <tr>\n",
              "      <th>gender</th>\n",
              "      <td>object</td>\n",
              "    </tr>\n",
              "    <tr>\n",
              "      <th>age</th>\n",
              "      <td>int64</td>\n",
              "    </tr>\n",
              "    <tr>\n",
              "      <th>Investment_Avenues</th>\n",
              "      <td>object</td>\n",
              "    </tr>\n",
              "    <tr>\n",
              "      <th>Mutual_Funds</th>\n",
              "      <td>int64</td>\n",
              "    </tr>\n",
              "    <tr>\n",
              "      <th>Equity_Market</th>\n",
              "      <td>int64</td>\n",
              "    </tr>\n",
              "    <tr>\n",
              "      <th>Debentures</th>\n",
              "      <td>int64</td>\n",
              "    </tr>\n",
              "    <tr>\n",
              "      <th>Government_Bonds</th>\n",
              "      <td>int64</td>\n",
              "    </tr>\n",
              "    <tr>\n",
              "      <th>Fixed_Deposits</th>\n",
              "      <td>int64</td>\n",
              "    </tr>\n",
              "    <tr>\n",
              "      <th>PPF</th>\n",
              "      <td>int64</td>\n",
              "    </tr>\n",
              "    <tr>\n",
              "      <th>Gold</th>\n",
              "      <td>int64</td>\n",
              "    </tr>\n",
              "    <tr>\n",
              "      <th>Stock_Marktet</th>\n",
              "      <td>object</td>\n",
              "    </tr>\n",
              "    <tr>\n",
              "      <th>Factor</th>\n",
              "      <td>object</td>\n",
              "    </tr>\n",
              "    <tr>\n",
              "      <th>Objective</th>\n",
              "      <td>object</td>\n",
              "    </tr>\n",
              "    <tr>\n",
              "      <th>Purpose</th>\n",
              "      <td>object</td>\n",
              "    </tr>\n",
              "    <tr>\n",
              "      <th>Duration</th>\n",
              "      <td>object</td>\n",
              "    </tr>\n",
              "    <tr>\n",
              "      <th>Invest_Monitor</th>\n",
              "      <td>object</td>\n",
              "    </tr>\n",
              "    <tr>\n",
              "      <th>Expect</th>\n",
              "      <td>object</td>\n",
              "    </tr>\n",
              "    <tr>\n",
              "      <th>Avenue</th>\n",
              "      <td>object</td>\n",
              "    </tr>\n",
              "    <tr>\n",
              "      <th>What are your savings objectives?</th>\n",
              "      <td>object</td>\n",
              "    </tr>\n",
              "    <tr>\n",
              "      <th>Reason_Equity</th>\n",
              "      <td>object</td>\n",
              "    </tr>\n",
              "    <tr>\n",
              "      <th>Reason_Mutual</th>\n",
              "      <td>object</td>\n",
              "    </tr>\n",
              "    <tr>\n",
              "      <th>Reason_Bonds</th>\n",
              "      <td>object</td>\n",
              "    </tr>\n",
              "    <tr>\n",
              "      <th>Reason_FD</th>\n",
              "      <td>object</td>\n",
              "    </tr>\n",
              "    <tr>\n",
              "      <th>Source</th>\n",
              "      <td>object</td>\n",
              "    </tr>\n",
              "  </tbody>\n",
              "</table>\n",
              "</div><br><label><b>dtype:</b> object</label>"
            ]
          },
          "metadata": {},
          "execution_count": 33
        }
      ]
    },
    {
      "cell_type": "code",
      "source": [
        "numerical_data = df.select_dtypes(include=['int64', 'float64'])\n",
        "print(numerical_data.columns)"
      ],
      "metadata": {
        "colab": {
          "base_uri": "https://localhost:8080/"
        },
        "id": "n60jmjUpVPnC",
        "outputId": "73e0ba3d-13d7-474e-f906-d0f7e31d6177"
      },
      "execution_count": null,
      "outputs": [
        {
          "output_type": "stream",
          "name": "stdout",
          "text": [
            "Index(['age', 'Mutual_Funds', 'Equity_Market', 'Debentures',\n",
            "       'Government_Bonds', 'Fixed_Deposits', 'PPF', 'Gold'],\n",
            "      dtype='object')\n"
          ]
        }
      ]
    },
    {
      "cell_type": "code",
      "source": [
        "for column in numerical_data.columns:\n",
        "    print(f\"Statistics for {column}:\")\n",
        "    print(f\"Mean: {numerical_data[column].mean()}\")\n",
        "    print(f\"Median: {numerical_data[column].median()}\")\n",
        "    print(f\"Standard Deviation: {numerical_data[column].std()}\")\n",
        "    print(\"-\" * 30)\n"
      ],
      "metadata": {
        "colab": {
          "base_uri": "https://localhost:8080/"
        },
        "id": "CcEGPLOSgkmo",
        "outputId": "a34a7db2-7a19-4ece-85b7-780c395b2b00"
      },
      "execution_count": null,
      "outputs": [
        {
          "output_type": "stream",
          "name": "stdout",
          "text": [
            "Statistics for age:\n",
            "Mean: 27.8\n",
            "Median: 27.0\n",
            "Standard Deviation: 3.560466693696639\n",
            "------------------------------\n",
            "Statistics for Mutual_Funds:\n",
            "Mean: 2.55\n",
            "Median: 2.0\n",
            "Standard Deviation: 1.1972189997378648\n",
            "------------------------------\n",
            "Statistics for Equity_Market:\n",
            "Mean: 3.475\n",
            "Median: 4.0\n",
            "Standard Deviation: 1.1319939294935533\n",
            "------------------------------\n",
            "Statistics for Debentures:\n",
            "Mean: 5.75\n",
            "Median: 6.5\n",
            "Standard Deviation: 1.6756169931378433\n",
            "------------------------------\n",
            "Statistics for Government_Bonds:\n",
            "Mean: 4.65\n",
            "Median: 5.0\n",
            "Standard Deviation: 1.3690723042845383\n",
            "------------------------------\n",
            "Statistics for Fixed_Deposits:\n",
            "Mean: 3.575\n",
            "Median: 3.5\n",
            "Standard Deviation: 1.7958284996067968\n",
            "------------------------------\n",
            "Statistics for PPF:\n",
            "Mean: 2.025\n",
            "Median: 1.0\n",
            "Standard Deviation: 1.6090688500193404\n",
            "------------------------------\n",
            "Statistics for Gold:\n",
            "Mean: 5.975\n",
            "Median: 6.0\n",
            "Standard Deviation: 1.1432634351063986\n",
            "------------------------------\n"
          ]
        }
      ]
    },
    {
      "cell_type": "code",
      "source": [
        "print(numerical_data.describe())"
      ],
      "metadata": {
        "colab": {
          "base_uri": "https://localhost:8080/"
        },
        "id": "zVkwRyYbgq2w",
        "outputId": "9b006fd5-f4dc-4c35-c7b9-9a7435ebf3ef"
      },
      "execution_count": null,
      "outputs": [
        {
          "output_type": "stream",
          "name": "stdout",
          "text": [
            "             age  Mutual_Funds  Equity_Market  Debentures  Government_Bonds  \\\n",
            "count  40.000000     40.000000      40.000000   40.000000         40.000000   \n",
            "mean   27.800000      2.550000       3.475000    5.750000          4.650000   \n",
            "std     3.560467      1.197219       1.131994    1.675617          1.369072   \n",
            "min    21.000000      1.000000       1.000000    1.000000          1.000000   \n",
            "25%    25.750000      2.000000       3.000000    5.000000          4.000000   \n",
            "50%    27.000000      2.000000       4.000000    6.500000          5.000000   \n",
            "75%    30.000000      3.000000       4.000000    7.000000          5.000000   \n",
            "max    35.000000      7.000000       6.000000    7.000000          7.000000   \n",
            "\n",
            "       Fixed_Deposits        PPF       Gold  \n",
            "count       40.000000  40.000000  40.000000  \n",
            "mean         3.575000   2.025000   5.975000  \n",
            "std          1.795828   1.609069   1.143263  \n",
            "min          1.000000   1.000000   2.000000  \n",
            "25%          2.750000   1.000000   6.000000  \n",
            "50%          3.500000   1.000000   6.000000  \n",
            "75%          5.000000   2.250000   7.000000  \n",
            "max          7.000000   6.000000   7.000000  \n"
          ]
        }
      ]
    },
    {
      "cell_type": "markdown",
      "source": [
        "Task 4: Most Preferred Investment\n",
        "Avenue\n"
      ],
      "metadata": {
        "id": "Y9hCmzGMhHW5"
      }
    },
    {
      "cell_type": "code",
      "source": [
        "investment_data = data['Avenue']\n",
        "print(investment_data.unique())"
      ],
      "metadata": {
        "colab": {
          "base_uri": "https://localhost:8080/"
        },
        "id": "wp8RVkoehIrx",
        "outputId": "f0702962-d8f2-4e97-edd7-56e5e9aa7c85"
      },
      "execution_count": null,
      "outputs": [
        {
          "output_type": "stream",
          "name": "stdout",
          "text": [
            "['Mutual Fund' 'Equity' 'Fixed Deposits' 'Public Provident Fund']\n"
          ]
        }
      ]
    },
    {
      "cell_type": "code",
      "source": [
        "investment_counts = data['Avenue'].value_counts()\n",
        "print(\"Frequency of Investment Avenues:\")\n",
        "print(investment_counts)"
      ],
      "metadata": {
        "colab": {
          "base_uri": "https://localhost:8080/"
        },
        "id": "urjgDnPQivSp",
        "outputId": "e03fac04-8e73-4231-b6ed-1b15d058adcb"
      },
      "execution_count": null,
      "outputs": [
        {
          "output_type": "stream",
          "name": "stdout",
          "text": [
            "Frequency of Investment Avenues:\n",
            "Avenue\n",
            "Mutual Fund              18\n",
            "Equity                   10\n",
            "Fixed Deposits            9\n",
            "Public Provident Fund     3\n",
            "Name: count, dtype: int64\n"
          ]
        }
      ]
    },
    {
      "cell_type": "code",
      "source": [
        "import matplotlib.pyplot as plt\n",
        "\n",
        "plt.figure(figsize=(8, 6))\n",
        "investment_counts.plot(kind='bar', color='skyblue')\n",
        "plt.title('Frequency of Investment Avenues', fontsize=16)\n",
        "plt.xlabel('Investment Avenue', fontsize=12)\n",
        "plt.ylabel('Frequency', fontsize=12)\n",
        "plt.xticks(rotation=45)\n",
        "plt.show()\n"
      ],
      "metadata": {
        "colab": {
          "base_uri": "https://localhost:8080/",
          "height": 672
        },
        "id": "RPNjZjQwi70C",
        "outputId": "1d13ad4b-771a-4e0d-9dc6-5628903372a9"
      },
      "execution_count": null,
      "outputs": [
        {
          "output_type": "display_data",
          "data": {
            "text/plain": [
              "<Figure size 800x600 with 1 Axes>"
            ],
            "image/png": "[encoded data removed]"
          },
          "metadata": {}
        }
      ]
    },
    {
      "cell_type": "markdown",
      "source": [
        "**Level 3**"
      ],
      "metadata": {
        "id": "wSkWrfzQjIeI"
      }
    },
    {
      "cell_type": "markdown",
      "source": [
        "Task 5: Reasons for Investment"
      ],
      "metadata": {
        "id": "8O63MvQbjLlp"
      }
    },
    {
      "cell_type": "code",
      "source": [
        "reason_columns = ['Reason_Equity', 'Reason_Mutual', 'Reason_Bonds', 'Reason_FD']\n",
        "reasons_combined = data[reason_columns].fillna('')\n",
        "\n",
        "all_reasons = reasons_combined.values.flatten()\n",
        "all_reasons = [reason for reason in all_reasons if reason]\n",
        "\n",
        "from collections import Counter\n",
        "\n",
        "reason_counts = Counter(all_reasons)\n",
        "reason_summary = reason_counts.most_common()\n",
        "\n",
        "reason_summary"
      ],
      "metadata": {
        "colab": {
          "base_uri": "https://localhost:8080/"
        },
        "id": "Tx8Eovd2jUOJ",
        "outputId": "7c33f160-bc8f-4ba6-f3a0-690c876afd60"
      },
      "execution_count": null,
      "outputs": [
        {
          "output_type": "execute_result",
          "data": {
            "text/plain": [
              "[('Capital Appreciation', 30),\n",
              " ('Assured Returns', 26),\n",
              " ('Better Returns', 24),\n",
              " ('Risk Free', 19),\n",
              " ('Fixed Returns', 18),\n",
              " ('Safe Investment', 13),\n",
              " ('Fund Diversification', 13),\n",
              " ('Dividend', 8),\n",
              " ('High Interest Rates', 3),\n",
              " ('Tax Benefits', 3),\n",
              " ('Liquidity', 2),\n",
              " ('Tax Incentives', 1)]"
            ]
          },
          "metadata": {},
          "execution_count": 55
        }
      ]
    },
    {
      "cell_type": "markdown",
      "source": [
        "Task 6: Savings Objectives"
      ],
      "metadata": {
        "id": "0dtMazO-miyC"
      }
    },
    {
      "cell_type": "code",
      "source": [
        "savings_column = 'What are your savings objectives?'\n",
        "\n",
        "savings_counts = Counter(data[savings_column])\n",
        "savings_summary = savings_counts.most_common()\n",
        "savings_summary"
      ],
      "metadata": {
        "colab": {
          "base_uri": "https://localhost:8080/"
        },
        "id": "FZeoXYswmjtT",
        "outputId": "745e3177-749e-4f9f-9932-f96ff2aea620"
      },
      "execution_count": null,
      "outputs": [
        {
          "output_type": "execute_result",
          "data": {
            "text/plain": [
              "[('Retirement Plan', 24), ('Health Care', 13), ('Education', 3)]"
            ]
          },
          "metadata": {},
          "execution_count": 58
        }
      ]
    },
    {
      "cell_type": "code",
      "source": [
        "savings_descriptions = {\n",
        "    \"Retirement Savings\": \"Ensuring financial security after retirement.\",\n",
        "    \"Emergency Fund\": \"Set aside for unexpected expenses or crises.\",\n",
        "    \"Child Education\": \"Saving for children's educational needs.\",\n",
        "    \"Buying a House\": \"Accumulating funds for a home purchase.\",\n",
        "    \"Vacation Savings\": \"Planning for travel or leisure activities.\",\n",
        "    \"Investments\": \"Growing wealth through financial instruments.\",\n",
        "}\n",
        "print(\"Savings Objectives Summary\")\n",
        "for objective, count in savings_counts.most_common():\n",
        "    description = savings_descriptions.get(objective, \"Description not available.\")\n",
        "    print(f\"Objective: {objective}\\nCount: {count}\\nDescription: {description}\\n\")\n"
      ],
      "metadata": {
        "id": "ukuUoY__n7ZS",
        "colab": {
          "base_uri": "https://localhost:8080/"
        },
        "outputId": "e66f26ac-72f3-4a7a-afff-22fbbe540e09"
      },
      "execution_count": 18,
      "outputs": [
        {
          "output_type": "stream",
          "name": "stdout",
          "text": [
            "Savings Objectives Summary\n",
            "Objective: Retirement Plan\n",
            "Count: 24\n",
            "Description: Description not available.\n",
            "\n",
            "Objective: Health Care\n",
            "Count: 13\n",
            "Description: Description not available.\n",
            "\n",
            "Objective: Education\n",
            "Count: 3\n",
            "Description: Description not available.\n",
            "\n"
          ]
        }
      ]
    },
    {
      "cell_type": "markdown",
      "source": [
        "**Level 4**"
      ],
      "metadata": {
        "id": "jrK2CeP5bu85"
      }
    },
    {
      "cell_type": "markdown",
      "source": [
        "Task 7: Common Information Sources"
      ],
      "metadata": {
        "id": "H6cHYz-2bzX5"
      }
    },
    {
      "cell_type": "code",
      "source": [
        "info_sources_column = 'Source'\n",
        "info_sources_counts = Counter(data[info_sources_column])\n",
        "print(\"Investment Information Sources Summary\")\n",
        "for source, count in info_sources_counts.most_common():\n",
        "    print(f\"Source: {source}\\nCount: {count}\\n\")"
      ],
      "metadata": {
        "colab": {
          "base_uri": "https://localhost:8080/"
        },
        "id": "CJAzQqs5b13x",
        "outputId": "64b536ad-7fe1-4ac4-98aa-a2077ad54890"
      },
      "execution_count": 20,
      "outputs": [
        {
          "output_type": "stream",
          "name": "stdout",
          "text": [
            "Investment Information Sources Summary\n",
            "Source: Financial Consultants\n",
            "Count: 16\n",
            "\n",
            "Source: Newspapers and Magazines\n",
            "Count: 14\n",
            "\n",
            "Source: Television\n",
            "Count: 6\n",
            "\n",
            "Source: Internet\n",
            "Count: 4\n",
            "\n"
          ]
        }
      ]
    },
    {
      "cell_type": "markdown",
      "source": [
        "Task 8: Investment Duration"
      ],
      "metadata": {
        "id": "GH7PDWG2c2Dx"
      }
    },
    {
      "cell_type": "code",
      "source": [
        "Investment_Duration = 'Duration'\n",
        "print(data[Investment_Duration])"
      ],
      "metadata": {
        "colab": {
          "base_uri": "https://localhost:8080/"
        },
        "id": "IvSkeEDgc21J",
        "outputId": "a750cf8a-15b4-40c5-c2dc-134edca6b2ad"
      },
      "execution_count": 36,
      "outputs": [
        {
          "output_type": "stream",
          "name": "stdout",
          "text": [
            "0             1-3 years\n",
            "1     More than 5 years\n",
            "2             3-5 years\n",
            "3      Less than 1 year\n",
            "4      Less than 1 year\n",
            "5             1-3 years\n",
            "6             3-5 years\n",
            "7             3-5 years\n",
            "8             1-3 years\n",
            "9             3-5 years\n",
            "10            3-5 years\n",
            "11            1-3 years\n",
            "12            1-3 years\n",
            "13            1-3 years\n",
            "14            1-3 years\n",
            "15            1-3 years\n",
            "16            1-3 years\n",
            "17            1-3 years\n",
            "18            1-3 years\n",
            "19            3-5 years\n",
            "20            3-5 years\n",
            "21            3-5 years\n",
            "22            3-5 years\n",
            "23            3-5 years\n",
            "24            3-5 years\n",
            "25            3-5 years\n",
            "26            3-5 years\n",
            "27            1-3 years\n",
            "28            1-3 years\n",
            "29            3-5 years\n",
            "30            1-3 years\n",
            "31            3-5 years\n",
            "32            3-5 years\n",
            "33            1-3 years\n",
            "34            1-3 years\n",
            "35            3-5 years\n",
            "36            1-3 years\n",
            "37            3-5 years\n",
            "38            1-3 years\n",
            "39            3-5 years\n",
            "Name: Duration, dtype: object\n"
          ]
        }
      ]
    },
    {
      "cell_type": "code",
      "source": [
        "Investment_duration_column = 'Investment_Duration'\n",
        "duration_mapping = {\n",
        "    \"Less than 1 year\": 0.5,\n",
        "    \"1-3 years\": 2,\n",
        "    \"3-5 years\": 4,\n",
        "    \"More than 5 years\": 6\n",
        "}\n",
        "\n",
        "data['Numeric Duration'] = data[Investment_Duration].map(duration_mapping)\n",
        "\n",
        "average_duration = data['Numeric Duration'].mean()\n",
        "\n",
        "print(f\"Average Investment Duration: {average_duration:.2f} years\")"
      ],
      "metadata": {
        "colab": {
          "base_uri": "https://localhost:8080/"
        },
        "id": "Oc_MB3x1eVyp",
        "outputId": "afa30256-cfdd-4e4b-c4ac-35cfb3fba803"
      },
      "execution_count": 35,
      "outputs": [
        {
          "output_type": "stream",
          "name": "stdout",
          "text": [
            "Average Investment Duration: 2.98 years\n"
          ]
        }
      ]
    },
    {
      "cell_type": "markdown",
      "source": [
        "Task 9: Expectations from Investments"
      ],
      "metadata": {
        "id": "UsuT-nHtfr1C"
      }
    },
    {
      "cell_type": "code",
      "source": [
        "expectations_column = 'Factor'\n",
        "\n",
        "expectations_counts = Counter(data[expectations_column])\n",
        "\n",
        "print(\"Participants' Investment Expectations\")\n",
        "for expectation, count in expectations_counts.most_common():\n",
        "    print(f\"Expectation: {expectation}\\nCount: {count}\\n\")"
      ],
      "metadata": {
        "colab": {
          "base_uri": "https://localhost:8080/"
        },
        "id": "-OFbLf-sftDj",
        "outputId": "8bc5a799-ec38-4c3f-896f-c16dde5717f0"
      },
      "execution_count": 37,
      "outputs": [
        {
          "output_type": "stream",
          "name": "stdout",
          "text": [
            "Participants' Investment Expectations\n",
            "Expectation: Returns\n",
            "Count: 25\n",
            "\n",
            "Expectation: Risk\n",
            "Count: 14\n",
            "\n",
            "Expectation: Locking Period\n",
            "Count: 1\n",
            "\n"
          ]
        }
      ]
    },
    {
      "cell_type": "markdown",
      "source": [
        "Task 10: Correlation Analysis"
      ],
      "metadata": {
        "id": "JmavnsPjg4cT"
      }
    },
    {
      "cell_type": "code",
      "source": [
        "def convert_percentage_to_numeric(value):\n",
        "    if isinstance(value, str) and '%' in value:\n",
        "        percent_range = value.replace('%', '').split('-')\n",
        "        if len(percent_range) == 2:\n",
        "            return (float(percent_range[0]) + float(percent_range[1])) / 2\n",
        "    return float(value)\n",
        "data['Expect'] = data['Expect'].apply(convert_percentage_to_numeric)\n",
        "data['age'] = pd.to_numeric(data['age'], errors='coerce')\n",
        "data['Numeric Duration'] = pd.to_numeric(data['Numeric Duration'], errors='coerce')"
      ],
      "metadata": {
        "id": "3qVQ5r3hg7Va"
      },
      "execution_count": 50,
      "outputs": []
    },
    {
      "cell_type": "code",
      "source": [
        "\n",
        "selected_columns = data[['age', 'Numeric Duration', 'Expect']]\n",
        "correlation_matrix = selected_columns.corr()\n",
        "print(correlation_matrix)\n"
      ],
      "metadata": {
        "colab": {
          "base_uri": "https://localhost:8080/"
        },
        "id": "yPDxiEHDkwvU",
        "outputId": "d9eeb59a-ee2f-4338-811d-99665cbd61f6"
      },
      "execution_count": 51,
      "outputs": [
        {
          "output_type": "stream",
          "name": "stdout",
          "text": [
            "                       age  Numeric Duration    Expect\n",
            "age               1.000000          0.051756 -0.089606\n",
            "Numeric Duration  0.051756          1.000000  0.258223\n",
            "Expect           -0.089606          0.258223  1.000000\n"
          ]
        }
      ]
    },
    {
      "cell_type": "code",
      "source": [
        "import seaborn as sns\n",
        "import matplotlib.pyplot as plt\n",
        "\n",
        "plt.figure(figsize=(6, 4))\n",
        "sns.heatmap(correlation_matrix, annot=True, cmap='coolwarm', linewidths=0.5)\n",
        "plt.title('Correlation Matrix')\n",
        "plt.show()\n"
      ],
      "metadata": {
        "colab": {
          "base_uri": "https://localhost:8080/",
          "height": 391
        },
        "id": "hTlw7yaok1kj",
        "outputId": "27233c8f-1a96-4905-ada9-38769740d25e"
      },
      "execution_count": 58,
      "outputs": [
        {
          "output_type": "display_data",
          "data": {
            "text/plain": [
              "<Figure size 600x400 with 2 Axes>"
            ],
            "image/png": "[encoded data removed]"
          },
          "metadata": {}
        }
      ]
    },
    {
      "cell_type": "code",
      "source": [
        "sns.scatterplot(x='age', y='Numeric Duration', data=selected_columns)\n",
        "plt.title('Age vs Investment Duration')\n",
        "plt.show()\n",
        "\n",
        "sns.scatterplot(x='age', y='Expect', data=selected_columns)\n",
        "plt.title('Age vs Expected Returns')\n",
        "plt.show()\n",
        "\n",
        "sns.scatterplot(x='Numeric Duration', y='Expect', data=selected_columns)\n",
        "plt.title('Investment Duration vs Expected Returns')\n",
        "plt.show()\n"
      ],
      "metadata": {
        "colab": {
          "base_uri": "https://localhost:8080/",
          "height": 1000
        },
        "id": "xLn1xlAilHrU",
        "outputId": "0f4b5a3f-831e-4ebf-c583-30a75386b759"
      },
      "execution_count": 61,
      "outputs": [
        {
          "output_type": "display_data",
          "data": {
            "text/plain": [
              "<Figure size 640x480 with 1 Axes>"
            ],
            "image/png": "[encoded data removed]"
          },
          "metadata": {}
        },
        {
          "output_type": "display_data",
          "data": {
            "text/plain": [
              "<Figure size 640x480 with 1 Axes>"
            ],
            "image/png": "[encoded data removed]"
          },
          "metadata": {}
        },
        {
          "output_type": "display_data",
          "data": {
            "text/plain": [
              "<Figure size 640x480 with 1 Axes>"
            ],
            "image/png": "[encoded data removed]"
          },
          "metadata": {}
        }
      ]
    }
  ]
}